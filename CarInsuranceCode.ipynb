{
 "cells": [
  {
   "cell_type": "code",
   "execution_count": 1,
   "metadata": {},
   "outputs": [],
   "source": [
    "import pandas as pd\n",
    "import numpy as np\n",
    "import seaborn as sns\n",
    "import matplotlib.pyplot as plt\n",
    "from matplotlib import rcParams\n",
    "from sklearn.model_selection import train_test_split\n",
    "from sklearn.metrics import classification_report, accuracy_score, roc_auc_score, plot_confusion_matrix, roc_curve, auc"
   ]
  },
  {
   "cell_type": "code",
   "execution_count": 4,
   "metadata": {},
   "outputs": [
    {
     "name": "stdout",
     "output_type": "stream",
     "text": [
      "<class 'pandas.core.frame.DataFrame'>\n",
      "RangeIndex: 1000 entries, 0 to 999\n",
      "Data columns (total 39 columns):\n",
      " #   Column                       Non-Null Count  Dtype  \n",
      "---  ------                       --------------  -----  \n",
      " 0   policy_number                1000 non-null   int64  \n",
      " 1   months_as_customer           1000 non-null   int64  \n",
      " 2   age                          1000 non-null   int64  \n",
      " 3   policy_bind_date             1000 non-null   object \n",
      " 4   policy_state                 1000 non-null   object \n",
      " 5   policy_csl                   1000 non-null   object \n",
      " 6   policy_deductable            1000 non-null   int64  \n",
      " 7   policy_annual_premium        1000 non-null   float64\n",
      " 8   umbrella_limit               1000 non-null   int64  \n",
      " 9   insured_zip                  1000 non-null   int64  \n",
      " 10  insured_sex                  1000 non-null   object \n",
      " 11  insured_education_level      1000 non-null   object \n",
      " 12  insured_occupation           1000 non-null   object \n",
      " 13  insured_hobbies              1000 non-null   object \n",
      " 14  insured_relationship         1000 non-null   object \n",
      " 15  capital_gains                1000 non-null   int64  \n",
      " 16  capital_loss                 1000 non-null   int64  \n",
      " 17  incident_date                1000 non-null   object \n",
      " 18  incident_type                1000 non-null   object \n",
      " 19  collision_type               1000 non-null   object \n",
      " 20  incident_severity            1000 non-null   object \n",
      " 21  authorities_contacted        1000 non-null   object \n",
      " 22  incident_state               1000 non-null   object \n",
      " 23  incident_city                1000 non-null   object \n",
      " 24  incident_location            1000 non-null   object \n",
      " 25  incident_hour_of_the_day     1000 non-null   int64  \n",
      " 26  number_of_vehicles_involved  1000 non-null   int64  \n",
      " 27  property_damage              1000 non-null   object \n",
      " 28  bodily_injuries              1000 non-null   int64  \n",
      " 29  witnesses                    1000 non-null   int64  \n",
      " 30  police_report_available      1000 non-null   object \n",
      " 31  total_claim_amount           1000 non-null   int64  \n",
      " 32  injury_claim                 1000 non-null   int64  \n",
      " 33  property_claim               1000 non-null   int64  \n",
      " 34  vehicle_claim                1000 non-null   int64  \n",
      " 35  auto_make                    1000 non-null   object \n",
      " 36  auto_model                   1000 non-null   object \n",
      " 37  auto_year                    1000 non-null   int64  \n",
      " 38  fraud_reported               1000 non-null   object \n",
      "dtypes: float64(1), int64(17), object(21)\n",
      "memory usage: 304.8+ KB\n"
     ]
    }
   ],
   "source": [
    "data = pd.read_csv('insurance_claims.csv')\n",
    "\n",
    "#info on the data\n",
    "data.info()"
   ]
  },
  {
   "cell_type": "code",
   "execution_count": 6,
   "metadata": {},
   "outputs": [
    {
     "data": {
      "text/html": [
       "<div>\n",
       "<style scoped>\n",
       "    .dataframe tbody tr th:only-of-type {\n",
       "        vertical-align: middle;\n",
       "    }\n",
       "\n",
       "    .dataframe tbody tr th {\n",
       "        vertical-align: top;\n",
       "    }\n",
       "\n",
       "    .dataframe thead th {\n",
       "        text-align: right;\n",
       "    }\n",
       "</style>\n",
       "<table border=\"1\" class=\"dataframe\">\n",
       "  <thead>\n",
       "    <tr style=\"text-align: right;\">\n",
       "      <th></th>\n",
       "      <th>policy_number</th>\n",
       "      <th>months_as_customer</th>\n",
       "      <th>age</th>\n",
       "      <th>policy_deductable</th>\n",
       "      <th>policy_annual_premium</th>\n",
       "      <th>umbrella_limit</th>\n",
       "      <th>insured_zip</th>\n",
       "      <th>capital_gains</th>\n",
       "      <th>capital_loss</th>\n",
       "      <th>incident_hour_of_the_day</th>\n",
       "      <th>number_of_vehicles_involved</th>\n",
       "      <th>bodily_injuries</th>\n",
       "      <th>witnesses</th>\n",
       "      <th>total_claim_amount</th>\n",
       "      <th>injury_claim</th>\n",
       "      <th>property_claim</th>\n",
       "      <th>vehicle_claim</th>\n",
       "      <th>auto_year</th>\n",
       "    </tr>\n",
       "  </thead>\n",
       "  <tbody>\n",
       "    <tr>\n",
       "      <th>count</th>\n",
       "      <td>1000.000000</td>\n",
       "      <td>1000.000000</td>\n",
       "      <td>1000.000000</td>\n",
       "      <td>1000.000000</td>\n",
       "      <td>1000.000000</td>\n",
       "      <td>1.000000e+03</td>\n",
       "      <td>1000.000000</td>\n",
       "      <td>1000.000000</td>\n",
       "      <td>1000.000000</td>\n",
       "      <td>1000.000000</td>\n",
       "      <td>1000.00000</td>\n",
       "      <td>1000.000000</td>\n",
       "      <td>1000.000000</td>\n",
       "      <td>1000.00000</td>\n",
       "      <td>1000.000000</td>\n",
       "      <td>1000.000000</td>\n",
       "      <td>1000.000000</td>\n",
       "      <td>1000.000000</td>\n",
       "    </tr>\n",
       "    <tr>\n",
       "      <th>mean</th>\n",
       "      <td>546238.648000</td>\n",
       "      <td>203.954000</td>\n",
       "      <td>38.948000</td>\n",
       "      <td>1136.000000</td>\n",
       "      <td>1256.406150</td>\n",
       "      <td>1.101000e+06</td>\n",
       "      <td>501214.488000</td>\n",
       "      <td>25126.100000</td>\n",
       "      <td>-26793.700000</td>\n",
       "      <td>11.644000</td>\n",
       "      <td>1.83900</td>\n",
       "      <td>0.992000</td>\n",
       "      <td>1.487000</td>\n",
       "      <td>52761.94000</td>\n",
       "      <td>7433.420000</td>\n",
       "      <td>7399.570000</td>\n",
       "      <td>37928.950000</td>\n",
       "      <td>2005.103000</td>\n",
       "    </tr>\n",
       "    <tr>\n",
       "      <th>std</th>\n",
       "      <td>257063.005276</td>\n",
       "      <td>115.113174</td>\n",
       "      <td>9.140287</td>\n",
       "      <td>611.864673</td>\n",
       "      <td>244.167395</td>\n",
       "      <td>2.297407e+06</td>\n",
       "      <td>71701.610941</td>\n",
       "      <td>27872.187708</td>\n",
       "      <td>28104.096686</td>\n",
       "      <td>6.951373</td>\n",
       "      <td>1.01888</td>\n",
       "      <td>0.820127</td>\n",
       "      <td>1.111335</td>\n",
       "      <td>26401.53319</td>\n",
       "      <td>4880.951853</td>\n",
       "      <td>4824.726179</td>\n",
       "      <td>18886.252893</td>\n",
       "      <td>6.015861</td>\n",
       "    </tr>\n",
       "    <tr>\n",
       "      <th>min</th>\n",
       "      <td>100804.000000</td>\n",
       "      <td>0.000000</td>\n",
       "      <td>19.000000</td>\n",
       "      <td>500.000000</td>\n",
       "      <td>433.330000</td>\n",
       "      <td>-1.000000e+06</td>\n",
       "      <td>430104.000000</td>\n",
       "      <td>0.000000</td>\n",
       "      <td>-111100.000000</td>\n",
       "      <td>0.000000</td>\n",
       "      <td>1.00000</td>\n",
       "      <td>0.000000</td>\n",
       "      <td>0.000000</td>\n",
       "      <td>100.00000</td>\n",
       "      <td>0.000000</td>\n",
       "      <td>0.000000</td>\n",
       "      <td>70.000000</td>\n",
       "      <td>1995.000000</td>\n",
       "    </tr>\n",
       "    <tr>\n",
       "      <th>25%</th>\n",
       "      <td>335980.250000</td>\n",
       "      <td>115.750000</td>\n",
       "      <td>32.000000</td>\n",
       "      <td>500.000000</td>\n",
       "      <td>1089.607500</td>\n",
       "      <td>0.000000e+00</td>\n",
       "      <td>448404.500000</td>\n",
       "      <td>0.000000</td>\n",
       "      <td>-51500.000000</td>\n",
       "      <td>6.000000</td>\n",
       "      <td>1.00000</td>\n",
       "      <td>0.000000</td>\n",
       "      <td>1.000000</td>\n",
       "      <td>41812.50000</td>\n",
       "      <td>4295.000000</td>\n",
       "      <td>4445.000000</td>\n",
       "      <td>30292.500000</td>\n",
       "      <td>2000.000000</td>\n",
       "    </tr>\n",
       "    <tr>\n",
       "      <th>50%</th>\n",
       "      <td>533135.000000</td>\n",
       "      <td>199.500000</td>\n",
       "      <td>38.000000</td>\n",
       "      <td>1000.000000</td>\n",
       "      <td>1257.200000</td>\n",
       "      <td>0.000000e+00</td>\n",
       "      <td>466445.500000</td>\n",
       "      <td>0.000000</td>\n",
       "      <td>-23250.000000</td>\n",
       "      <td>12.000000</td>\n",
       "      <td>1.00000</td>\n",
       "      <td>1.000000</td>\n",
       "      <td>1.000000</td>\n",
       "      <td>58055.00000</td>\n",
       "      <td>6775.000000</td>\n",
       "      <td>6750.000000</td>\n",
       "      <td>42100.000000</td>\n",
       "      <td>2005.000000</td>\n",
       "    </tr>\n",
       "    <tr>\n",
       "      <th>75%</th>\n",
       "      <td>759099.750000</td>\n",
       "      <td>276.250000</td>\n",
       "      <td>44.000000</td>\n",
       "      <td>2000.000000</td>\n",
       "      <td>1415.695000</td>\n",
       "      <td>0.000000e+00</td>\n",
       "      <td>603251.000000</td>\n",
       "      <td>51025.000000</td>\n",
       "      <td>0.000000</td>\n",
       "      <td>17.000000</td>\n",
       "      <td>3.00000</td>\n",
       "      <td>2.000000</td>\n",
       "      <td>2.000000</td>\n",
       "      <td>70592.50000</td>\n",
       "      <td>11305.000000</td>\n",
       "      <td>10885.000000</td>\n",
       "      <td>50822.500000</td>\n",
       "      <td>2010.000000</td>\n",
       "    </tr>\n",
       "    <tr>\n",
       "      <th>max</th>\n",
       "      <td>999435.000000</td>\n",
       "      <td>479.000000</td>\n",
       "      <td>64.000000</td>\n",
       "      <td>2000.000000</td>\n",
       "      <td>2047.590000</td>\n",
       "      <td>1.000000e+07</td>\n",
       "      <td>620962.000000</td>\n",
       "      <td>100500.000000</td>\n",
       "      <td>0.000000</td>\n",
       "      <td>23.000000</td>\n",
       "      <td>4.00000</td>\n",
       "      <td>2.000000</td>\n",
       "      <td>3.000000</td>\n",
       "      <td>114920.00000</td>\n",
       "      <td>21450.000000</td>\n",
       "      <td>23670.000000</td>\n",
       "      <td>79560.000000</td>\n",
       "      <td>2015.000000</td>\n",
       "    </tr>\n",
       "  </tbody>\n",
       "</table>\n",
       "</div>"
      ],
      "text/plain": [
       "       policy_number  months_as_customer          age  policy_deductable  \\\n",
       "count    1000.000000         1000.000000  1000.000000        1000.000000   \n",
       "mean   546238.648000          203.954000    38.948000        1136.000000   \n",
       "std    257063.005276          115.113174     9.140287         611.864673   \n",
       "min    100804.000000            0.000000    19.000000         500.000000   \n",
       "25%    335980.250000          115.750000    32.000000         500.000000   \n",
       "50%    533135.000000          199.500000    38.000000        1000.000000   \n",
       "75%    759099.750000          276.250000    44.000000        2000.000000   \n",
       "max    999435.000000          479.000000    64.000000        2000.000000   \n",
       "\n",
       "       policy_annual_premium  umbrella_limit    insured_zip  capital_gains  \\\n",
       "count            1000.000000    1.000000e+03    1000.000000    1000.000000   \n",
       "mean             1256.406150    1.101000e+06  501214.488000   25126.100000   \n",
       "std               244.167395    2.297407e+06   71701.610941   27872.187708   \n",
       "min               433.330000   -1.000000e+06  430104.000000       0.000000   \n",
       "25%              1089.607500    0.000000e+00  448404.500000       0.000000   \n",
       "50%              1257.200000    0.000000e+00  466445.500000       0.000000   \n",
       "75%              1415.695000    0.000000e+00  603251.000000   51025.000000   \n",
       "max              2047.590000    1.000000e+07  620962.000000  100500.000000   \n",
       "\n",
       "        capital_loss  incident_hour_of_the_day  number_of_vehicles_involved  \\\n",
       "count    1000.000000               1000.000000                   1000.00000   \n",
       "mean   -26793.700000                 11.644000                      1.83900   \n",
       "std     28104.096686                  6.951373                      1.01888   \n",
       "min   -111100.000000                  0.000000                      1.00000   \n",
       "25%    -51500.000000                  6.000000                      1.00000   \n",
       "50%    -23250.000000                 12.000000                      1.00000   \n",
       "75%         0.000000                 17.000000                      3.00000   \n",
       "max         0.000000                 23.000000                      4.00000   \n",
       "\n",
       "       bodily_injuries    witnesses  total_claim_amount  injury_claim  \\\n",
       "count      1000.000000  1000.000000          1000.00000   1000.000000   \n",
       "mean          0.992000     1.487000         52761.94000   7433.420000   \n",
       "std           0.820127     1.111335         26401.53319   4880.951853   \n",
       "min           0.000000     0.000000           100.00000      0.000000   \n",
       "25%           0.000000     1.000000         41812.50000   4295.000000   \n",
       "50%           1.000000     1.000000         58055.00000   6775.000000   \n",
       "75%           2.000000     2.000000         70592.50000  11305.000000   \n",
       "max           2.000000     3.000000        114920.00000  21450.000000   \n",
       "\n",
       "       property_claim  vehicle_claim    auto_year  \n",
       "count     1000.000000    1000.000000  1000.000000  \n",
       "mean      7399.570000   37928.950000  2005.103000  \n",
       "std       4824.726179   18886.252893     6.015861  \n",
       "min          0.000000      70.000000  1995.000000  \n",
       "25%       4445.000000   30292.500000  2000.000000  \n",
       "50%       6750.000000   42100.000000  2005.000000  \n",
       "75%      10885.000000   50822.500000  2010.000000  \n",
       "max      23670.000000   79560.000000  2015.000000  "
      ]
     },
     "execution_count": 6,
     "metadata": {},
     "output_type": "execute_result"
    }
   ],
   "source": [
    "# data stats\n",
    "data.describe()"
   ]
  },
  {
   "cell_type": "code",
   "execution_count": 7,
   "metadata": {},
   "outputs": [
    {
     "data": {
      "text/plain": [
       "policy_number                  0\n",
       "months_as_customer             0\n",
       "age                            0\n",
       "policy_bind_date               0\n",
       "policy_state                   0\n",
       "policy_csl                     0\n",
       "policy_deductable              0\n",
       "policy_annual_premium          0\n",
       "umbrella_limit                 0\n",
       "insured_zip                    0\n",
       "insured_sex                    0\n",
       "insured_education_level        0\n",
       "insured_occupation             0\n",
       "insured_hobbies                0\n",
       "insured_relationship           0\n",
       "capital_gains                  0\n",
       "capital_loss                   0\n",
       "incident_date                  0\n",
       "incident_type                  0\n",
       "collision_type                 0\n",
       "incident_severity              0\n",
       "authorities_contacted          0\n",
       "incident_state                 0\n",
       "incident_city                  0\n",
       "incident_location              0\n",
       "incident_hour_of_the_day       0\n",
       "number_of_vehicles_involved    0\n",
       "property_damage                0\n",
       "bodily_injuries                0\n",
       "witnesses                      0\n",
       "police_report_available        0\n",
       "total_claim_amount             0\n",
       "injury_claim                   0\n",
       "property_claim                 0\n",
       "vehicle_claim                  0\n",
       "auto_make                      0\n",
       "auto_model                     0\n",
       "auto_year                      0\n",
       "fraud_reported                 0\n",
       "dtype: int64"
      ]
     },
     "execution_count": 7,
     "metadata": {},
     "output_type": "execute_result"
    }
   ],
   "source": [
    "# checking the nan values\n",
    "data.isnull().sum()"
   ]
  },
  {
   "cell_type": "code",
   "execution_count": 8,
   "metadata": {},
   "outputs": [
    {
     "name": "stdout",
     "output_type": "stream",
     "text": [
      "     policy_number  months_as_customer  age policy_bind_date policy_state  \\\n",
      "0           521585                 328   48       10/17/2014           OH   \n",
      "1           342868                 228   42        6/27/2006           IN   \n",
      "2           687698                 134   29       09-06-2000           OH   \n",
      "3           227811                 256   41        5/25/1990           IL   \n",
      "4           367455                 228   44       06-06-2014           IL   \n",
      "..             ...                 ...  ...              ...          ...   \n",
      "995         941851                   3   38        7/16/1991           OH   \n",
      "996         186934                 285   41       01-05-2014           IL   \n",
      "997         918516                 130   34        2/17/2003           OH   \n",
      "998         533940                 458   62       11/18/2011           IL   \n",
      "999         556080                 456   60       11-11-1996           OH   \n",
      "\n",
      "    policy_csl  policy_deductable  policy_annual_premium  umbrella_limit  \\\n",
      "0      250/500               1000                1406.91               0   \n",
      "1      250/500               2000                1197.22         5000000   \n",
      "2      100/300               2000                1413.14         5000000   \n",
      "3      250/500               2000                1415.74         6000000   \n",
      "4     500/1000               1000                1583.91         6000000   \n",
      "..         ...                ...                    ...             ...   \n",
      "995   500/1000               1000                1310.80               0   \n",
      "996    100/300               1000                1436.79               0   \n",
      "997    250/500                500                1383.49         3000000   \n",
      "998   500/1000               2000                1356.92         5000000   \n",
      "999    250/500               1000                 766.19               0   \n",
      "\n",
      "     insured_zip  ... witnesses police_report_available total_claim_amount  \\\n",
      "0         466132  ...         2                     YES              71610   \n",
      "1         468176  ...         0                       ?               5070   \n",
      "2         430632  ...         3                      NO              34650   \n",
      "3         608117  ...         2                      NO              63400   \n",
      "4         610706  ...         1                      NO               6500   \n",
      "..           ...  ...       ...                     ...                ...   \n",
      "995       431289  ...         1                       ?              87200   \n",
      "996       608177  ...         3                       ?             108480   \n",
      "997       442797  ...         3                     YES              67500   \n",
      "998       441714  ...         1                     YES              46980   \n",
      "999       612260  ...         3                       ?               5060   \n",
      "\n",
      "    injury_claim property_claim  vehicle_claim   auto_make auto_model  \\\n",
      "0           6510          13020          52080        Saab        92x   \n",
      "1            780            780           3510    Mercedes       E400   \n",
      "2           7700           3850          23100       Dodge        RAM   \n",
      "3           6340           6340          50720   Chevrolet      Tahoe   \n",
      "4           1300            650           4550      Accura        RSX   \n",
      "..           ...            ...            ...         ...        ...   \n",
      "995        17440           8720          61040       Honda     Accord   \n",
      "996        18080          18080          72320  Volkswagen     Passat   \n",
      "997         7500           7500          52500      Suburu    Impreza   \n",
      "998         5220           5220          36540        Audi         A5   \n",
      "999          460            920           3680    Mercedes       E400   \n",
      "\n",
      "    auto_year fraud_reported  \n",
      "0        2004              1  \n",
      "1        2007              1  \n",
      "2        2007              0  \n",
      "3        2014              1  \n",
      "4        2009              0  \n",
      "..        ...            ...  \n",
      "995      2006              0  \n",
      "996      2015              0  \n",
      "997      1996              0  \n",
      "998      1998              0  \n",
      "999      2007              0  \n",
      "\n",
      "[1000 rows x 39 columns]\n"
     ]
    }
   ],
   "source": [
    "data['fraud_reported'] \n",
    "\n",
    "fraud_output = []\n",
    "response = data.iloc[:,-1]\n",
    " \n",
    "# converting output to binary   \n",
    "for i in  range(len(response)):\n",
    "     fraud_output.append(1 if response[i] == 'Y' else 0 )\n",
    "    \n",
    "data['fraud_reported'] = pd.Series(fraud_output)\n",
    "print(data)"
   ]
  },
  {
   "cell_type": "code",
   "execution_count": 9,
   "metadata": {},
   "outputs": [
    {
     "data": {
      "text/plain": [
       "Text(0.5, 1.0, 'Histogram of age of customers')"
      ]
     },
     "execution_count": 9,
     "metadata": {},
     "output_type": "execute_result"
    },
    {
     "data": {
      "image/png": "[encoded data removed]",
      "text/plain": [
       "<Figure size 432x288 with 1 Axes>"
      ]
     },
     "metadata": {
      "needs_background": "light"
     },
     "output_type": "display_data"
    }
   ],
   "source": [
    "# data analysis\n",
    "plt.hist(data['age'])\n",
    "plt.ylabel('No. of Customers')\n",
    "plt.xlabel('customer age')\n",
    "plt.title(\"Histogram of age of customers\")"
   ]
  },
  {
   "cell_type": "code",
   "execution_count": 10,
   "metadata": {},
   "outputs": [
    {
     "data": {
      "text/plain": [
       "Text(0, 0.5, 'No. of customers')"
      ]
     },
     "execution_count": 10,
     "metadata": {},
     "output_type": "execute_result"
    },
    {
     "data": {
      "image/png": "[encoded data removed]",
      "text/plain": [
       "<Figure size 432x288 with 1 Axes>"
      ]
     },
     "metadata": {
      "needs_background": "light"
     },
     "output_type": "display_data"
    }
   ],
   "source": [
    "data[\"insured_sex\"].hist()\n",
    "plt.title(\"Hstogram of insured_sex of customers\")\n",
    "plt.xlabel(\"insured_sex of customers\")\n",
    "plt.ylabel(\"No. of customers\")"
   ]
  },
  {
   "cell_type": "code",
   "execution_count": 11,
   "metadata": {},
   "outputs": [
    {
     "data": {
      "text/plain": [
       "<matplotlib.axes._subplots.AxesSubplot at 0x267790948c8>"
      ]
     },
     "execution_count": 11,
     "metadata": {},
     "output_type": "execute_result"
    },
    {
     "data": {
      "image/png": "[encoded data removed]",
      "text/plain": [
       "<Figure size 432x288 with 1 Axes>"
      ]
     },
     "metadata": {
      "needs_background": "light"
     },
     "output_type": "display_data"
    }
   ],
   "source": [
    "# checking the output if its balanced!!\n",
    "sns.countplot(data.iloc[:,-1]) #imbalanced"
   ]
  },
  {
   "cell_type": "code",
   "execution_count": 12,
   "metadata": {},
   "outputs": [
    {
     "data": {
      "text/plain": [
       "<matplotlib.axes._subplots.AxesSubplot at 0x26778fcd208>"
      ]
     },
     "execution_count": 12,
     "metadata": {},
     "output_type": "execute_result"
    },
    {
     "data": {
      "image/png": "[encoded data removed]",
      "text/plain": [
       "<Figure size 720x720 with 2 Axes>"
      ]
     },
     "metadata": {
      "needs_background": "light"
     },
     "output_type": "display_data"
    }
   ],
   "source": [
    "#feature selection#\n",
    "rcParams['figure.figsize'] = [10,10]\n",
    "sns.heatmap(data.corr())"
   ]
  },
  {
   "cell_type": "code",
   "execution_count": 13,
   "metadata": {},
   "outputs": [
    {
     "name": "stdout",
     "output_type": "stream",
     "text": [
      "<class 'pandas.core.frame.DataFrame'>\n",
      "RangeIndex: 1000 entries, 0 to 999\n",
      "Data columns (total 39 columns):\n",
      " #   Column                       Non-Null Count  Dtype  \n",
      "---  ------                       --------------  -----  \n",
      " 0   policy_number                1000 non-null   int64  \n",
      " 1   months_as_customer           1000 non-null   int64  \n",
      " 2   age                          1000 non-null   int64  \n",
      " 3   policy_bind_date             1000 non-null   object \n",
      " 4   policy_state                 1000 non-null   object \n",
      " 5   policy_csl                   1000 non-null   object \n",
      " 6   policy_deductable            1000 non-null   int64  \n",
      " 7   policy_annual_premium        1000 non-null   float64\n",
      " 8   umbrella_limit               1000 non-null   int64  \n",
      " 9   insured_zip                  1000 non-null   int64  \n",
      " 10  insured_sex                  1000 non-null   object \n",
      " 11  insured_education_level      1000 non-null   object \n",
      " 12  insured_occupation           1000 non-null   object \n",
      " 13  insured_hobbies              1000 non-null   object \n",
      " 14  insured_relationship         1000 non-null   object \n",
      " 15  capital_gains                1000 non-null   int64  \n",
      " 16  capital_loss                 1000 non-null   int64  \n",
      " 17  incident_date                1000 non-null   object \n",
      " 18  incident_type                1000 non-null   object \n",
      " 19  collision_type               1000 non-null   object \n",
      " 20  incident_severity            1000 non-null   object \n",
      " 21  authorities_contacted        1000 non-null   object \n",
      " 22  incident_state               1000 non-null   object \n",
      " 23  incident_city                1000 non-null   object \n",
      " 24  incident_location            1000 non-null   object \n",
      " 25  incident_hour_of_the_day     1000 non-null   int64  \n",
      " 26  number_of_vehicles_involved  1000 non-null   int64  \n",
      " 27  property_damage              1000 non-null   object \n",
      " 28  bodily_injuries              1000 non-null   int64  \n",
      " 29  witnesses                    1000 non-null   int64  \n",
      " 30  police_report_available      1000 non-null   object \n",
      " 31  total_claim_amount           1000 non-null   int64  \n",
      " 32  injury_claim                 1000 non-null   int64  \n",
      " 33  property_claim               1000 non-null   int64  \n",
      " 34  vehicle_claim                1000 non-null   int64  \n",
      " 35  auto_make                    1000 non-null   object \n",
      " 36  auto_model                   1000 non-null   object \n",
      " 37  auto_year                    1000 non-null   int64  \n",
      " 38  fraud_reported               1000 non-null   int64  \n",
      "dtypes: float64(1), int64(18), object(20)\n",
      "memory usage: 304.8+ KB\n"
     ]
    }
   ],
   "source": [
    "data.info()\n",
    "#policy number in x is irrelevant for prediction\n",
    "x = data.iloc[:,1:38]\n",
    "x_columns = x.columns\n",
    "y = data.iloc[:,-1] "
   ]
  },
  {
   "cell_type": "code",
   "execution_count": 14,
   "metadata": {},
   "outputs": [
    {
     "data": {
      "text/html": [
       "<div>\n",
       "<style scoped>\n",
       "    .dataframe tbody tr th:only-of-type {\n",
       "        vertical-align: middle;\n",
       "    }\n",
       "\n",
       "    .dataframe tbody tr th {\n",
       "        vertical-align: top;\n",
       "    }\n",
       "\n",
       "    .dataframe thead th {\n",
       "        text-align: right;\n",
       "    }\n",
       "</style>\n",
       "<table border=\"1\" class=\"dataframe\">\n",
       "  <thead>\n",
       "    <tr style=\"text-align: right;\">\n",
       "      <th></th>\n",
       "      <th>features</th>\n",
       "      <th>scores</th>\n",
       "    </tr>\n",
       "  </thead>\n",
       "  <tbody>\n",
       "    <tr>\n",
       "      <th>33</th>\n",
       "      <td>vehicle_claim</td>\n",
       "      <td>2644.587085</td>\n",
       "    </tr>\n",
       "    <tr>\n",
       "      <th>30</th>\n",
       "      <td>total_claim_amount</td>\n",
       "      <td>2549.783115</td>\n",
       "    </tr>\n",
       "    <tr>\n",
       "      <th>32</th>\n",
       "      <td>property_claim</td>\n",
       "      <td>2085.626042</td>\n",
       "    </tr>\n",
       "    <tr>\n",
       "      <th>31</th>\n",
       "      <td>injury_claim</td>\n",
       "      <td>933.096711</td>\n",
       "    </tr>\n",
       "    <tr>\n",
       "      <th>8</th>\n",
       "      <td>insured_zip</td>\n",
       "      <td>633.756096</td>\n",
       "    </tr>\n",
       "    <tr>\n",
       "      <th>19</th>\n",
       "      <td>incident_severity</td>\n",
       "      <td>122.804296</td>\n",
       "    </tr>\n",
       "    <tr>\n",
       "      <th>2</th>\n",
       "      <td>policy_bind_date</td>\n",
       "      <td>85.918188</td>\n",
       "    </tr>\n",
       "    <tr>\n",
       "      <th>14</th>\n",
       "      <td>capital_gains</td>\n",
       "      <td>62.553620</td>\n",
       "    </tr>\n",
       "    <tr>\n",
       "      <th>16</th>\n",
       "      <td>incident_date</td>\n",
       "      <td>38.748357</td>\n",
       "    </tr>\n",
       "    <tr>\n",
       "      <th>6</th>\n",
       "      <td>policy_annual_premium</td>\n",
       "      <td>38.355350</td>\n",
       "    </tr>\n",
       "    <tr>\n",
       "      <th>0</th>\n",
       "      <td>months_as_customer</td>\n",
       "      <td>15.808667</td>\n",
       "    </tr>\n",
       "    <tr>\n",
       "      <th>23</th>\n",
       "      <td>incident_location</td>\n",
       "      <td>13.012569</td>\n",
       "    </tr>\n",
       "    <tr>\n",
       "      <th>18</th>\n",
       "      <td>collision_type</td>\n",
       "      <td>8.229651</td>\n",
       "    </tr>\n",
       "    <tr>\n",
       "      <th>12</th>\n",
       "      <td>insured_hobbies</td>\n",
       "      <td>7.250932</td>\n",
       "    </tr>\n",
       "    <tr>\n",
       "      <th>7</th>\n",
       "      <td>umbrella_limit</td>\n",
       "      <td>6.438597</td>\n",
       "    </tr>\n",
       "    <tr>\n",
       "      <th>21</th>\n",
       "      <td>incident_state</td>\n",
       "      <td>3.785108</td>\n",
       "    </tr>\n",
       "    <tr>\n",
       "      <th>25</th>\n",
       "      <td>number_of_vehicles_involved</td>\n",
       "      <td>3.321679</td>\n",
       "    </tr>\n",
       "    <tr>\n",
       "      <th>15</th>\n",
       "      <td>capital_loss</td>\n",
       "      <td>2.967067</td>\n",
       "    </tr>\n",
       "    <tr>\n",
       "      <th>17</th>\n",
       "      <td>incident_type</td>\n",
       "      <td>2.530024</td>\n",
       "    </tr>\n",
       "    <tr>\n",
       "      <th>22</th>\n",
       "      <td>incident_city</td>\n",
       "      <td>2.297660</td>\n",
       "    </tr>\n",
       "    <tr>\n",
       "      <th>20</th>\n",
       "      <td>authorities_contacted</td>\n",
       "      <td>2.270237</td>\n",
       "    </tr>\n",
       "    <tr>\n",
       "      <th>28</th>\n",
       "      <td>witnesses</td>\n",
       "      <td>2.032810</td>\n",
       "    </tr>\n",
       "    <tr>\n",
       "      <th>34</th>\n",
       "      <td>auto_make</td>\n",
       "      <td>1.881541</td>\n",
       "    </tr>\n",
       "    <tr>\n",
       "      <th>4</th>\n",
       "      <td>policy_csl</td>\n",
       "      <td>0.940383</td>\n",
       "    </tr>\n",
       "    <tr>\n",
       "      <th>27</th>\n",
       "      <td>bodily_injuries</td>\n",
       "      <td>0.777356</td>\n",
       "    </tr>\n",
       "    <tr>\n",
       "      <th>26</th>\n",
       "      <td>property_damage</td>\n",
       "      <td>0.650297</td>\n",
       "    </tr>\n",
       "    <tr>\n",
       "      <th>1</th>\n",
       "      <td>age</td>\n",
       "      <td>0.616969</td>\n",
       "    </tr>\n",
       "    <tr>\n",
       "      <th>3</th>\n",
       "      <td>policy_state</td>\n",
       "      <td>0.589272</td>\n",
       "    </tr>\n",
       "    <tr>\n",
       "      <th>29</th>\n",
       "      <td>police_report_available</td>\n",
       "      <td>0.535814</td>\n",
       "    </tr>\n",
       "    <tr>\n",
       "      <th>13</th>\n",
       "      <td>insured_relationship</td>\n",
       "      <td>0.517412</td>\n",
       "    </tr>\n",
       "    <tr>\n",
       "      <th>9</th>\n",
       "      <td>insured_sex</td>\n",
       "      <td>0.511838</td>\n",
       "    </tr>\n",
       "    <tr>\n",
       "      <th>36</th>\n",
       "      <td>auto_year</td>\n",
       "      <td>0.224937</td>\n",
       "    </tr>\n",
       "    <tr>\n",
       "      <th>10</th>\n",
       "      <td>insured_education_level</td>\n",
       "      <td>0.099212</td>\n",
       "    </tr>\n",
       "    <tr>\n",
       "      <th>24</th>\n",
       "      <td>incident_hour_of_the_day</td>\n",
       "      <td>0.077221</td>\n",
       "    </tr>\n",
       "    <tr>\n",
       "      <th>5</th>\n",
       "      <td>policy_deductable</td>\n",
       "      <td>0.038979</td>\n",
       "    </tr>\n",
       "    <tr>\n",
       "      <th>11</th>\n",
       "      <td>insured_occupation</td>\n",
       "      <td>0.005931</td>\n",
       "    </tr>\n",
       "    <tr>\n",
       "      <th>35</th>\n",
       "      <td>auto_model</td>\n",
       "      <td>0.003320</td>\n",
       "    </tr>\n",
       "  </tbody>\n",
       "</table>\n",
       "</div>"
      ],
      "text/plain": [
       "                       features       scores\n",
       "33                vehicle_claim  2644.587085\n",
       "30           total_claim_amount  2549.783115\n",
       "32               property_claim  2085.626042\n",
       "31                 injury_claim   933.096711\n",
       "8                   insured_zip   633.756096\n",
       "19            incident_severity   122.804296\n",
       "2              policy_bind_date    85.918188\n",
       "14                capital_gains    62.553620\n",
       "16                incident_date    38.748357\n",
       "6         policy_annual_premium    38.355350\n",
       "0            months_as_customer    15.808667\n",
       "23            incident_location    13.012569\n",
       "18               collision_type     8.229651\n",
       "12              insured_hobbies     7.250932\n",
       "7                umbrella_limit     6.438597\n",
       "21               incident_state     3.785108\n",
       "25  number_of_vehicles_involved     3.321679\n",
       "15                 capital_loss     2.967067\n",
       "17                incident_type     2.530024\n",
       "22                incident_city     2.297660\n",
       "20        authorities_contacted     2.270237\n",
       "28                    witnesses     2.032810\n",
       "34                    auto_make     1.881541\n",
       "4                    policy_csl     0.940383\n",
       "27              bodily_injuries     0.777356\n",
       "26              property_damage     0.650297\n",
       "1                           age     0.616969\n",
       "3                  policy_state     0.589272\n",
       "29      police_report_available     0.535814\n",
       "13         insured_relationship     0.517412\n",
       "9                   insured_sex     0.511838\n",
       "36                    auto_year     0.224937\n",
       "10      insured_education_level     0.099212\n",
       "24     incident_hour_of_the_day     0.077221\n",
       "5             policy_deductable     0.038979\n",
       "11           insured_occupation     0.005931\n",
       "35                   auto_model     0.003320"
      ]
     },
     "execution_count": 14,
     "metadata": {},
     "output_type": "execute_result"
    }
   ],
   "source": [
    "\n",
    "#feature selection\n",
    "#ordinal encoder\n",
    "#encode categorical features as an integer array.\n",
    "from sklearn.preprocessing import OrdinalEncoder\n",
    "oe = OrdinalEncoder() \n",
    "oe.fit(x)\n",
    "x_enc = oe.transform(x)\n",
    "x_enc = pd.DataFrame(x_enc , columns= x_columns )  \n",
    "columns = pd.DataFrame(x_enc.columns)\n",
    "\n",
    "#Label encoder\n",
    "#Encode target labels with value between 0 and n_classes-1\n",
    "#This transformer should be used to encode target values, i.e. y, and not the input X.\n",
    "from sklearn.preprocessing import LabelEncoder\n",
    "le = LabelEncoder() \n",
    "le.fit(y)\n",
    "y_enc = pd.DataFrame((le.transform(y)), columns =['fraud_reported'])\n",
    "\n",
    "\n",
    "#extracting the features\n",
    "from sklearn.feature_selection import SelectKBest\n",
    "from sklearn.feature_selection import chi2\n",
    "\n",
    "best_features = SelectKBest(score_func=chi2, k = 'all')\n",
    "fit = best_features.fit(x_enc,y_enc)\n",
    "\n",
    "#scores of the features\n",
    "scores = pd.DataFrame(fit.scores_)\n",
    "\n",
    "feature_scores = pd.concat([columns,scores], axis = 1)\n",
    "feature_scores.columns = ['features','scores']\n",
    "feature_scores.nlargest(37,'scores')"
   ]
  },
  {
   "cell_type": "code",
   "execution_count": 15,
   "metadata": {},
   "outputs": [
    {
     "name": "stdout",
     "output_type": "stream",
     "text": [
      "<class 'pandas.core.frame.DataFrame'>\n",
      "RangeIndex: 1000 entries, 0 to 999\n",
      "Data columns (total 14 columns):\n",
      " #   Column                 Non-Null Count  Dtype  \n",
      "---  ------                 --------------  -----  \n",
      " 0   policy_number          1000 non-null   int64  \n",
      " 1   months_as_customer     1000 non-null   int64  \n",
      " 2   policy_bind_date       1000 non-null   object \n",
      " 3   policy_annual_premium  1000 non-null   float64\n",
      " 4   insured_zip            1000 non-null   int64  \n",
      " 5   capital_gains          1000 non-null   int64  \n",
      " 6   incident_date          1000 non-null   object \n",
      " 7   incident_severity      1000 non-null   object \n",
      " 8   incident_location      1000 non-null   object \n",
      " 9   total_claim_amount     1000 non-null   int64  \n",
      " 10  injury_claim           1000 non-null   int64  \n",
      " 11  property_claim         1000 non-null   int64  \n",
      " 12  vehicle_claim          1000 non-null   int64  \n",
      " 13  fraud_reported         1000 non-null   int64  \n",
      "dtypes: float64(1), int64(9), object(4)\n",
      "memory usage: 109.5+ KB\n"
     ]
    }
   ],
   "source": [
    "#dropping the columns with least scores\n",
    "columns_to_drop = ['collision_type',    \n",
    "                   'insured_hobbies',     \n",
    "                   'umbrella_limit',     \n",
    "                   'incident_state',     \n",
    "                   'number_of_vehicles_involved',     \n",
    "                   'capital_loss',     \n",
    "                   'incident_type',     \n",
    "                   'incident_city',\n",
    "                   'authorities_contacted',    \n",
    "                   'witnesses',     \n",
    "                   'auto_make',\n",
    "                   'policy_csl',     \n",
    "                   'bodily_injuries',     \n",
    "                   'property_damage',     \n",
    "                   'age',     \n",
    "                   'policy_state',     \n",
    "                   'police_report_available',     \n",
    "                   'insured_relationship',     \n",
    "                   'insured_sex',     \n",
    "                   'auto_year',     \n",
    "                   'insured_education_level',     \n",
    "                   'incident_hour_of_the_day',     \n",
    "                   'policy_deductable',     \n",
    "                   'insured_occupation',     \n",
    "                   'auto_model']\n",
    "\n",
    "imp_data = data.drop(columns_to_drop, axis =1) \n",
    "\n",
    "imp_data.info()\n",
    "\n",
    "X = imp_data.iloc[:,1:13]\n",
    "Y = imp_data.iloc[:,-1] "
   ]
  },
  {
   "cell_type": "code",
   "execution_count": 16,
   "metadata": {},
   "outputs": [
    {
     "data": {
      "image/png": "[encoded data removed]",
      "text/plain": [
       "<Figure size 720x720 with 1 Axes>"
      ]
     },
     "metadata": {
      "needs_background": "light"
     },
     "output_type": "display_data"
    }
   ],
   "source": [
    "\n",
    "#dummy coding\n",
    "X = pd.get_dummies(X, drop_first=True)\n",
    "\n",
    "#we are using an minority class over sampling technique \n",
    "#and converting it into a balanced dataset\n",
    "\n",
    "#from imblearn.over_sampling import SMOTE\n",
    "#sm = SMOTE(random_state = 24)\n",
    "#X , Y = sm.fit_resample(X, Y)\n",
    "\n",
    "from imblearn.over_sampling import RandomOverSampler\n",
    "ROS = RandomOverSampler()\n",
    "X, Y = ROS.fit_sample(X,Y)\n",
    "\n",
    "\n",
    "#plotting the independent variable\n",
    "sns.countplot(Y)\n",
    "\n",
    "#scaling the data\n",
    "from sklearn.preprocessing import StandardScaler\n",
    "ss = StandardScaler()\n",
    "X = ss.fit_transform(X)\n",
    "\n",
    "\n"
   ]
  },
  {
   "cell_type": "code",
   "execution_count": 17,
   "metadata": {},
   "outputs": [
    {
     "name": "stdout",
     "output_type": "stream",
     "text": [
      "0.8344370860927153\n",
      "              precision    recall  f1-score   support\n",
      "\n",
      "           0       0.85      0.82      0.84       155\n",
      "           1       0.82      0.85      0.83       147\n",
      "\n",
      "    accuracy                           0.83       302\n",
      "   macro avg       0.83      0.83      0.83       302\n",
      "weighted avg       0.84      0.83      0.83       302\n",
      "\n",
      "[0.78145695 0.78807947 0.82119205 0.78807947 0.8013245  0.81456954\n",
      " 0.79333333 0.83333333 0.83333333 0.81333333]\n"
     ]
    },
    {
     "data": {
      "image/png": "[encoded data removed]",
      "text/plain": [
       "<Figure size 360x360 with 2 Axes>"
      ]
     },
     "metadata": {
      "needs_background": "light"
     },
     "output_type": "display_data"
    }
   ],
   "source": [
    "#splitting the training and testing data\n",
    "x_train, x_test, y_train, y_test = train_test_split(X, Y, test_size=(0.2))\n",
    "\n",
    "rcParams['figure.figsize'] = [5,5]\n",
    "\n",
    "#xgboost\n",
    "\n",
    "from xgboost import  XGBClassifier\n",
    "XGB = XGBClassifier()\n",
    "XGB.fit(x_train,y_train)\n",
    "XGB_Predictions = XGB.predict(x_test)\n",
    "print(accuracy_score(y_test, XGB_Predictions))\n",
    "print(classification_report(y_test, XGB_Predictions))\n",
    "plot_confusion_matrix(XGB , x_test , y_test)"
   ]
  },
  {
   "cell_type": "code",
   "execution_count": 18,
   "metadata": {},
   "outputs": [
    {
     "name": "stdout",
     "output_type": "stream",
     "text": [
      "[0.78145695 0.78807947 0.82119205 0.78807947 0.8013245  0.81456954\n",
      " 0.79333333 0.83333333 0.83333333 0.81333333]\n"
     ]
    }
   ],
   "source": [
    "#cross validation accuracy scores for xgb\n",
    "from sklearn.model_selection import cross_val_score\n",
    "print(cross_val_score(XGB,X,Y,cv=10,scoring='accuracy'))"
   ]
  },
  {
   "cell_type": "code",
   "execution_count": 19,
   "metadata": {},
   "outputs": [
    {
     "name": "stdout",
     "output_type": "stream",
     "text": [
      "0.9370860927152318\n",
      "              precision    recall  f1-score   support\n",
      "\n",
      "           0       1.00      0.88      0.93       155\n",
      "           1       0.89      1.00      0.94       147\n",
      "\n",
      "    accuracy                           0.94       302\n",
      "   macro avg       0.94      0.94      0.94       302\n",
      "weighted avg       0.94      0.94      0.94       302\n",
      "\n"
     ]
    },
    {
     "data": {
      "text/plain": [
       "<sklearn.metrics._plot.confusion_matrix.ConfusionMatrixDisplay at 0x2677c9b03c8>"
      ]
     },
     "execution_count": 19,
     "metadata": {},
     "output_type": "execute_result"
    },
    {
     "data": {
      "image/png": "[encoded data removed]",
      "text/plain": [
       "<Figure size 360x360 with 2 Axes>"
      ]
     },
     "metadata": {
      "needs_background": "light"
     },
     "output_type": "display_data"
    }
   ],
   "source": [
    "#random forest classifier\n",
    "from sklearn.ensemble import RandomForestClassifier\n",
    "RF = RandomForestClassifier()\n",
    "RF.fit(x_train,y_train)\n",
    "RF_Predictions = RF.predict(x_test)\n",
    "print(accuracy_score(y_test, RF_Predictions))\n",
    "print(classification_report(y_test, RF_Predictions))\n",
    "plot_confusion_matrix(RF , x_test , y_test)\n"
   ]
  },
  {
   "cell_type": "code",
   "execution_count": 20,
   "metadata": {},
   "outputs": [
    {
     "name": "stdout",
     "output_type": "stream",
     "text": [
      "[0.90066225 0.91390728 0.8807947  0.94039735 0.95364238 0.93377483\n",
      " 0.92666667 0.97333333 0.96666667 0.95333333]\n"
     ]
    }
   ],
   "source": [
    "#cross validation accuracy scores rf\n",
    "print(cross_val_score(RF,X,Y,cv=10,scoring='accuracy'))"
   ]
  },
  {
   "cell_type": "code",
   "execution_count": 21,
   "metadata": {},
   "outputs": [
    {
     "name": "stdout",
     "output_type": "stream",
     "text": [
      "0.9900662251655629\n",
      "              precision    recall  f1-score   support\n",
      "\n",
      "           0       0.98      1.00      0.99       155\n",
      "           1       1.00      0.98      0.99       147\n",
      "\n",
      "    accuracy                           0.99       302\n",
      "   macro avg       0.99      0.99      0.99       302\n",
      "weighted avg       0.99      0.99      0.99       302\n",
      "\n"
     ]
    },
    {
     "data": {
      "text/plain": [
       "<sklearn.metrics._plot.confusion_matrix.ConfusionMatrixDisplay at 0x2677c96da08>"
      ]
     },
     "execution_count": 21,
     "metadata": {},
     "output_type": "execute_result"
    },
    {
     "data": {
      "image/png": "[encoded data removed]",
      "text/plain": [
       "<Figure size 360x360 with 2 Axes>"
      ]
     },
     "metadata": {
      "needs_background": "light"
     },
     "output_type": "display_data"
    }
   ],
   "source": [
    "#support vector machine classifier # best model\n",
    "from sklearn import svm\n",
    "SVC = svm.SVC()\n",
    "SVC.fit(x_train,y_train)\n",
    "SVC_Predictions = SVC.predict(x_test)\n",
    "print(accuracy_score(y_test,SVC_Predictions)) \n",
    "print(classification_report(y_test, SVC_Predictions))\n",
    "plot_confusion_matrix(SVC , x_test , y_test)\n"
   ]
  },
  {
   "cell_type": "code",
   "execution_count": 22,
   "metadata": {},
   "outputs": [
    {
     "name": "stdout",
     "output_type": "stream",
     "text": [
      "[0.94039735 0.92715232 0.9205298  0.96688742 0.99337748 1.\n",
      " 1.         1.         1.         1.        ]\n"
     ]
    }
   ],
   "source": [
    "#cross validation accuracy scores svm\n",
    "print(cross_val_score(SVC,X,Y,cv=10,scoring='accuracy'))"
   ]
  },
  {
   "cell_type": "code",
   "execution_count": 23,
   "metadata": {},
   "outputs": [
    {
     "name": "stdout",
     "output_type": "stream",
     "text": [
      "AUC value = 0.9897959183673469\n"
     ]
    },
    {
     "data": {
      "image/png": "[encoded data removed]",
      "text/plain": [
       "<Figure size 360x360 with 1 Axes>"
      ]
     },
     "metadata": {
      "needs_background": "light"
     },
     "output_type": "display_data"
    }
   ],
   "source": [
    "#Receiving Operator Charecteristic for SVM\n",
    "plt.title(\"ROC curve for SVM:\")\n",
    "plt.xlabel(\"False Positive Rate\")\n",
    "plt.ylabel(\"True Positive Rate\")\n",
    "\n",
    "model_pred = {}\n",
    "\n",
    "tpr , fpr , threshold = roc_curve(y_test, SVC_Predictions, pos_label = 1)\n",
    "model_pred[\"SVC\"] = [tpr, fpr]\n",
    "print(\"AUC value = \" +str(auc(tpr,fpr)))\n",
    "\n",
    "\n",
    "for key, value in model_pred.items():\n",
    "    model_list = model_pred[key]\n",
    "    plt.plot(model_list[0], model_list[1], label=key)\n",
    "    plt.legend()\n",
    "plt.show()"
   ]
  },
  {
   "cell_type": "code",
   "execution_count": 25,
   "metadata": {},
   "outputs": [
    {
     "name": "stdout",
     "output_type": "stream",
     "text": [
      "0.8443708609271523\n",
      "              precision    recall  f1-score   support\n",
      "\n",
      "           0       0.82      0.85      0.83       137\n",
      "           1       0.87      0.84      0.86       165\n",
      "\n",
      "    accuracy                           0.84       302\n",
      "   macro avg       0.84      0.84      0.84       302\n",
      "weighted avg       0.85      0.84      0.84       302\n",
      "\n"
     ]
    },
    {
     "data": {
      "text/plain": [
       "<sklearn.metrics._plot.confusion_matrix.ConfusionMatrixDisplay at 0x2677cb41d08>"
      ]
     },
     "execution_count": 25,
     "metadata": {},
     "output_type": "execute_result"
    },
    {
     "data": {
      "image/png": "[encoded data removed]",
      "text/plain": [
       "<Figure size 360x360 with 2 Axes>"
      ]
     },
     "metadata": {
      "needs_background": "light"
     },
     "output_type": "display_data"
    }
   ],
   "source": [
    "\n",
    "#LDA gives you best result out of all incase you filter out minimal irrelevant features.\n",
    "#since its a dimensionality reduction algorithm.\n",
    "#lets try\n",
    "\n",
    "data \n",
    "x_lda = data.iloc[:,1:38]\n",
    "y_lda = data.iloc[:,-1]\n",
    "\n",
    "\n",
    "columns_to_drop_lda = [\"auto_model\", \n",
    "                      \"policy_bind_date\",\n",
    "                      \"policy_state\", \n",
    "                      \"incident_date\",\n",
    "                      \"incident_state\",\n",
    "                      \"incident_city\",\n",
    "                      \"incident_location\", \n",
    "                      \"policy_csl\"]\n",
    "\n",
    "x_lda = x_lda.drop(columns_to_drop_lda, axis=1)\n",
    "\n",
    "x_lda = pd.get_dummies(x_lda, drop_first=True)\n",
    "x_lda, y_lda = ROS.fit_sample(x_lda,y_lda)\n",
    "x_lda = ss.fit_transform(x_lda)\n",
    "\n",
    "#splitting the training and testing data\n",
    "x_lda_train, x_lda_test, y_lda_train, y_lda_test = train_test_split(x_lda, y_lda, test_size=(0.2))\n",
    "\n",
    "\n",
    "from sklearn.discriminant_analysis import LinearDiscriminantAnalysis\n",
    "LDA = LinearDiscriminantAnalysis()\n",
    "LDA.fit(x_lda_train,y_lda_train)\n",
    "LDA_Predictions = LDA.predict(x_lda_test)\n",
    "print(accuracy_score(y_lda_test, LDA_Predictions))\n",
    "print(classification_report(y_lda_test, LDA_Predictions))\n",
    "plot_confusion_matrix(LDA , x_lda_test , y_lda_test)"
   ]
  },
  {
   "cell_type": "code",
   "execution_count": null,
   "metadata": {},
   "outputs": [],
   "source": []
  },
  {
   "cell_type": "code",
   "execution_count": null,
   "metadata": {},
   "outputs": [],
   "source": []
  }
 ],
 "metadata": {
  "kernelspec": {
   "display_name": "Python 3",
   "language": "python",
   "name": "python3"
  },
  "language_info": {
   "codemirror_mode": {
    "name": "ipython",
    "version": 3
   },
   "file_extension": ".py",
   "mimetype": "text/x-python",
   "name": "python",
   "nbconvert_exporter": "python",
   "pygments_lexer": "ipython3",
   "version": "3.7.4"
  }
 },
 "nbformat": 4,
 "nbformat_minor": 4
}
